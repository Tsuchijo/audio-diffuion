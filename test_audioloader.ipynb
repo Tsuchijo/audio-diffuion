{
 "cells": [
  {
   "cell_type": "code",
   "execution_count": null,
   "metadata": {},
   "outputs": [],
   "source": [
    "import numpy as np \n",
    "import torch\n",
    "import os \n",
    "import re\n",
    "import matplotlib.pyplot as plt\n",
    "import spectrogram\n",
    "from Models.models import get_timestep_embedding\n",
    "from DDPM import DDPM_Scheduler\n",
    "from scipy.io import wavfile\n",
    "from IPython.display import Audio\n",
    "import audio_dataloader\n",
    "import torchaudio\n",
    "import yaml\n",
    "from AudioLDM_Models.variational_autoencoder.modules import Encoder, Decoder\n",
    "from torch.utils.data import DataLoader\n",
    "## Play the audio\n",
    "from IPython.display import Audio"
   ]
  },
  {
   "cell_type": "code",
   "execution_count": null,
   "metadata": {},
   "outputs": [],
   "source": [
    "VAE_config = yaml.load(open('checkpoints/16k_64.yaml', 'r'), Loader=yaml.FullLoader)"
   ]
  },
  {
   "cell_type": "code",
   "execution_count": null,
   "metadata": {},
   "outputs": [],
   "source": [
    "## Load Autoencoder from weights \n",
    "from AudioLDM_Models.variational_autoencoder.autoencoder import AutoencoderKL\n",
    "VAE_config = yaml.load(open('checkpoints/16k_64.yaml', 'r'), Loader=yaml.FullLoader)\n",
    "Autoencoder = AutoencoderKL(**VAE_config['model']['params'])\n",
    "state_dict = torch.load('checkpoints/vae_mel_16k_64bins.ckpt')['state_dict']\n",
    "state_dict = {k: v for k, v in state_dict.items() if not re.match('loss', k)}\n",
    "Autoencoder.load_state_dict(state_dict)"
   ]
  },
  {
   "cell_type": "code",
   "execution_count": null,
   "metadata": {},
   "outputs": [],
   "source": [
    "target_sample_rate = 16000"
   ]
  },
  {
   "cell_type": "code",
   "execution_count": null,
   "metadata": {},
   "outputs": [],
   "source": [
    "data_path = 'data/'\n",
    "loader = audio_dataloader.AudioDataset(data_path, 160*200 * 44100//target_sample_rate, target_sample_rate,'cpu')\n",
    "dataloader = DataLoader(loader, batch_size=2, shuffle=True)\n",
    "test_data = next(iter(dataloader))"
   ]
  },
  {
   "cell_type": "code",
   "execution_count": null,
   "metadata": {},
   "outputs": [],
   "source": []
  },
  {
   "cell_type": "code",
   "execution_count": null,
   "metadata": {},
   "outputs": [],
   "source": [
    "## Encode the data\n",
    "posteriror = Autoencoder.encode(test_data)\n",
    "latent = posteriror.sample()"
   ]
  },
  {
   "cell_type": "code",
   "execution_count": null,
   "metadata": {},
   "outputs": [],
   "source": [
    "latent.shape"
   ]
  },
  {
   "cell_type": "code",
   "execution_count": null,
   "metadata": {},
   "outputs": [],
   "source": [
    "## Decode the data\n",
    "reconstructed = Autoencoder.decode(latent)"
   ]
  },
  {
   "cell_type": "code",
   "execution_count": null,
   "metadata": {},
   "outputs": [],
   "source": [
    "plt.imshow((test_data.swapaxes(2,3).squeeze()[0].numpy()))"
   ]
  },
  {
   "cell_type": "code",
   "execution_count": null,
   "metadata": {},
   "outputs": [],
   "source": [
    "plt.imshow(reconstructed.swapaxes(2,3).squeeze()[0].detach().numpy())"
   ]
  },
  {
   "cell_type": "code",
   "execution_count": null,
   "metadata": {},
   "outputs": [],
   "source": [
    "audio = Autoencoder.decode_to_waveform(reconstructed).squeeze().detach().numpy()\n",
    "Audio(audio, rate=16000)"
   ]
  },
  {
   "cell_type": "code",
   "execution_count": null,
   "metadata": {},
   "outputs": [],
   "source": [
    "spec_rec = torchaudio.transforms.InverseMelScale(n_stft=513, n_mels=64, sample_rate=target_sample_rate)(torch.exp(reconstructed.swapaxes(2,3)).detach())\n",
    "g_lim_audio = torchaudio.transforms.GriffinLim(n_fft=1024, win_length=1024, hop_length=160, n_iter=10)(spec_rec).squeeze().detach().numpy()"
   ]
  },
  {
   "cell_type": "code",
   "execution_count": null,
   "metadata": {},
   "outputs": [],
   "source": [
    "\n",
    "Audio(g_lim_audio, rate=target_sample_rate)"
   ]
  },
  {
   "cell_type": "code",
   "execution_count": null,
   "metadata": {},
   "outputs": [],
   "source": []
  },
  {
   "cell_type": "code",
   "execution_count": null,
   "metadata": {},
   "outputs": [],
   "source": [
    "## plot the waveform\n",
    "## PLot the two waveforms right next to eachother\n",
    "fig = plt.figure(figsize=(10, 5))\n",
    "plt.plot(audio[0], label='Reconstructed')\n",
    "plt.plot(g_lim_audio[0], label='Griffin Lim')\n",
    "plt.legend()\n",
    "plt.show()\n"
   ]
  }
 ],
 "metadata": {
  "kernelspec": {
   "display_name": "diffusion",
   "language": "python",
   "name": "python3"
  },
  "language_info": {
   "codemirror_mode": {
    "name": "ipython",
    "version": 3
   },
   "file_extension": ".py",
   "mimetype": "text/x-python",
   "name": "python",
   "nbconvert_exporter": "python",
   "pygments_lexer": "ipython3",
   "version": "3.10.12"
  }
 },
 "nbformat": 4,
 "nbformat_minor": 2
}
